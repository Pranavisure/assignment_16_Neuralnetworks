{
 "cells": [
  {
   "cell_type": "code",
   "execution_count": 15,
   "id": "e20f7bb2",
   "metadata": {
    "ExecuteTime": {
     "end_time": "2023-02-01T04:17:36.501924Z",
     "start_time": "2023-02-01T04:17:36.493648Z"
    }
   },
   "outputs": [],
   "source": [
    "from tensorflow import keras\n",
    "from keras.models import Sequential\n",
    "from keras.layers import Dense\n",
    "import numpy as np\n",
    "import pandas as pd \n",
    "from sklearn.preprocessing import StandardScaler"
   ]
  },
  {
   "cell_type": "markdown",
   "id": "b5e80ff1",
   "metadata": {},
   "source": [
    "### Reading dataset"
   ]
  },
  {
   "cell_type": "code",
   "execution_count": 16,
   "id": "2a5d10c2",
   "metadata": {
    "ExecuteTime": {
     "end_time": "2023-02-01T04:17:38.845045Z",
     "start_time": "2023-02-01T04:17:38.780840Z"
    }
   },
   "outputs": [
    {
     "data": {
      "text/html": [
       "<div>\n",
       "<style scoped>\n",
       "    .dataframe tbody tr th:only-of-type {\n",
       "        vertical-align: middle;\n",
       "    }\n",
       "\n",
       "    .dataframe tbody tr th {\n",
       "        vertical-align: top;\n",
       "    }\n",
       "\n",
       "    .dataframe thead th {\n",
       "        text-align: right;\n",
       "    }\n",
       "</style>\n",
       "<table border=\"1\" class=\"dataframe\">\n",
       "  <thead>\n",
       "    <tr style=\"text-align: right;\">\n",
       "      <th></th>\n",
       "      <th>AT</th>\n",
       "      <th>AP</th>\n",
       "      <th>AH</th>\n",
       "      <th>AFDP</th>\n",
       "      <th>GTEP</th>\n",
       "      <th>TIT</th>\n",
       "      <th>TAT</th>\n",
       "      <th>TEY</th>\n",
       "      <th>CDP</th>\n",
       "      <th>CO</th>\n",
       "      <th>NOX</th>\n",
       "    </tr>\n",
       "  </thead>\n",
       "  <tbody>\n",
       "    <tr>\n",
       "      <th>0</th>\n",
       "      <td>6.8594</td>\n",
       "      <td>1007.9</td>\n",
       "      <td>96.799</td>\n",
       "      <td>3.5000</td>\n",
       "      <td>19.663</td>\n",
       "      <td>1059.2</td>\n",
       "      <td>550.00</td>\n",
       "      <td>114.70</td>\n",
       "      <td>10.605</td>\n",
       "      <td>3.1547</td>\n",
       "      <td>82.722</td>\n",
       "    </tr>\n",
       "    <tr>\n",
       "      <th>1</th>\n",
       "      <td>6.7850</td>\n",
       "      <td>1008.4</td>\n",
       "      <td>97.118</td>\n",
       "      <td>3.4998</td>\n",
       "      <td>19.728</td>\n",
       "      <td>1059.3</td>\n",
       "      <td>550.00</td>\n",
       "      <td>114.72</td>\n",
       "      <td>10.598</td>\n",
       "      <td>3.2363</td>\n",
       "      <td>82.776</td>\n",
       "    </tr>\n",
       "    <tr>\n",
       "      <th>2</th>\n",
       "      <td>6.8977</td>\n",
       "      <td>1008.8</td>\n",
       "      <td>95.939</td>\n",
       "      <td>3.4824</td>\n",
       "      <td>19.779</td>\n",
       "      <td>1059.4</td>\n",
       "      <td>549.87</td>\n",
       "      <td>114.71</td>\n",
       "      <td>10.601</td>\n",
       "      <td>3.2012</td>\n",
       "      <td>82.468</td>\n",
       "    </tr>\n",
       "    <tr>\n",
       "      <th>3</th>\n",
       "      <td>7.0569</td>\n",
       "      <td>1009.2</td>\n",
       "      <td>95.249</td>\n",
       "      <td>3.4805</td>\n",
       "      <td>19.792</td>\n",
       "      <td>1059.6</td>\n",
       "      <td>549.99</td>\n",
       "      <td>114.72</td>\n",
       "      <td>10.606</td>\n",
       "      <td>3.1923</td>\n",
       "      <td>82.670</td>\n",
       "    </tr>\n",
       "    <tr>\n",
       "      <th>4</th>\n",
       "      <td>7.3978</td>\n",
       "      <td>1009.7</td>\n",
       "      <td>95.150</td>\n",
       "      <td>3.4976</td>\n",
       "      <td>19.765</td>\n",
       "      <td>1059.7</td>\n",
       "      <td>549.98</td>\n",
       "      <td>114.72</td>\n",
       "      <td>10.612</td>\n",
       "      <td>3.2484</td>\n",
       "      <td>82.311</td>\n",
       "    </tr>\n",
       "    <tr>\n",
       "      <th>...</th>\n",
       "      <td>...</td>\n",
       "      <td>...</td>\n",
       "      <td>...</td>\n",
       "      <td>...</td>\n",
       "      <td>...</td>\n",
       "      <td>...</td>\n",
       "      <td>...</td>\n",
       "      <td>...</td>\n",
       "      <td>...</td>\n",
       "      <td>...</td>\n",
       "      <td>...</td>\n",
       "    </tr>\n",
       "    <tr>\n",
       "      <th>15034</th>\n",
       "      <td>9.0301</td>\n",
       "      <td>1005.6</td>\n",
       "      <td>98.460</td>\n",
       "      <td>3.5421</td>\n",
       "      <td>19.164</td>\n",
       "      <td>1049.7</td>\n",
       "      <td>546.21</td>\n",
       "      <td>111.61</td>\n",
       "      <td>10.400</td>\n",
       "      <td>4.5186</td>\n",
       "      <td>79.559</td>\n",
       "    </tr>\n",
       "    <tr>\n",
       "      <th>15035</th>\n",
       "      <td>7.8879</td>\n",
       "      <td>1005.9</td>\n",
       "      <td>99.093</td>\n",
       "      <td>3.5059</td>\n",
       "      <td>19.414</td>\n",
       "      <td>1046.3</td>\n",
       "      <td>543.22</td>\n",
       "      <td>111.78</td>\n",
       "      <td>10.433</td>\n",
       "      <td>4.8470</td>\n",
       "      <td>79.917</td>\n",
       "    </tr>\n",
       "    <tr>\n",
       "      <th>15036</th>\n",
       "      <td>7.2647</td>\n",
       "      <td>1006.3</td>\n",
       "      <td>99.496</td>\n",
       "      <td>3.4770</td>\n",
       "      <td>19.530</td>\n",
       "      <td>1037.7</td>\n",
       "      <td>537.32</td>\n",
       "      <td>110.19</td>\n",
       "      <td>10.483</td>\n",
       "      <td>7.9632</td>\n",
       "      <td>90.912</td>\n",
       "    </tr>\n",
       "    <tr>\n",
       "      <th>15037</th>\n",
       "      <td>7.0060</td>\n",
       "      <td>1006.8</td>\n",
       "      <td>99.008</td>\n",
       "      <td>3.4486</td>\n",
       "      <td>19.377</td>\n",
       "      <td>1043.2</td>\n",
       "      <td>541.24</td>\n",
       "      <td>110.74</td>\n",
       "      <td>10.533</td>\n",
       "      <td>6.2494</td>\n",
       "      <td>93.227</td>\n",
       "    </tr>\n",
       "    <tr>\n",
       "      <th>15038</th>\n",
       "      <td>6.9279</td>\n",
       "      <td>1007.2</td>\n",
       "      <td>97.533</td>\n",
       "      <td>3.4275</td>\n",
       "      <td>19.306</td>\n",
       "      <td>1049.9</td>\n",
       "      <td>545.85</td>\n",
       "      <td>111.58</td>\n",
       "      <td>10.583</td>\n",
       "      <td>4.9816</td>\n",
       "      <td>92.498</td>\n",
       "    </tr>\n",
       "  </tbody>\n",
       "</table>\n",
       "<p>15039 rows × 11 columns</p>\n",
       "</div>"
      ],
      "text/plain": [
       "           AT      AP      AH    AFDP    GTEP     TIT     TAT     TEY     CDP  \\\n",
       "0      6.8594  1007.9  96.799  3.5000  19.663  1059.2  550.00  114.70  10.605   \n",
       "1      6.7850  1008.4  97.118  3.4998  19.728  1059.3  550.00  114.72  10.598   \n",
       "2      6.8977  1008.8  95.939  3.4824  19.779  1059.4  549.87  114.71  10.601   \n",
       "3      7.0569  1009.2  95.249  3.4805  19.792  1059.6  549.99  114.72  10.606   \n",
       "4      7.3978  1009.7  95.150  3.4976  19.765  1059.7  549.98  114.72  10.612   \n",
       "...       ...     ...     ...     ...     ...     ...     ...     ...     ...   \n",
       "15034  9.0301  1005.6  98.460  3.5421  19.164  1049.7  546.21  111.61  10.400   \n",
       "15035  7.8879  1005.9  99.093  3.5059  19.414  1046.3  543.22  111.78  10.433   \n",
       "15036  7.2647  1006.3  99.496  3.4770  19.530  1037.7  537.32  110.19  10.483   \n",
       "15037  7.0060  1006.8  99.008  3.4486  19.377  1043.2  541.24  110.74  10.533   \n",
       "15038  6.9279  1007.2  97.533  3.4275  19.306  1049.9  545.85  111.58  10.583   \n",
       "\n",
       "           CO     NOX  \n",
       "0      3.1547  82.722  \n",
       "1      3.2363  82.776  \n",
       "2      3.2012  82.468  \n",
       "3      3.1923  82.670  \n",
       "4      3.2484  82.311  \n",
       "...       ...     ...  \n",
       "15034  4.5186  79.559  \n",
       "15035  4.8470  79.917  \n",
       "15036  7.9632  90.912  \n",
       "15037  6.2494  93.227  \n",
       "15038  4.9816  92.498  \n",
       "\n",
       "[15039 rows x 11 columns]"
      ]
     },
     "execution_count": 16,
     "metadata": {},
     "output_type": "execute_result"
    }
   ],
   "source": [
    "data=pd.read_csv('gas_turbines.csv')\n",
    "data"
   ]
  },
  {
   "cell_type": "markdown",
   "id": "87482f51",
   "metadata": {},
   "source": [
    "#### Data preprocessing"
   ]
  },
  {
   "cell_type": "code",
   "execution_count": 17,
   "id": "96393ed4",
   "metadata": {
    "ExecuteTime": {
     "end_time": "2023-02-01T04:17:39.772110Z",
     "start_time": "2023-02-01T04:17:39.740047Z"
    }
   },
   "outputs": [
    {
     "name": "stdout",
     "output_type": "stream",
     "text": [
      "<class 'pandas.core.frame.DataFrame'>\n",
      "RangeIndex: 15039 entries, 0 to 15038\n",
      "Data columns (total 11 columns):\n",
      " #   Column  Non-Null Count  Dtype  \n",
      "---  ------  --------------  -----  \n",
      " 0   AT      15039 non-null  float64\n",
      " 1   AP      15039 non-null  float64\n",
      " 2   AH      15039 non-null  float64\n",
      " 3   AFDP    15039 non-null  float64\n",
      " 4   GTEP    15039 non-null  float64\n",
      " 5   TIT     15039 non-null  float64\n",
      " 6   TAT     15039 non-null  float64\n",
      " 7   TEY     15039 non-null  float64\n",
      " 8   CDP     15039 non-null  float64\n",
      " 9   CO      15039 non-null  float64\n",
      " 10  NOX     15039 non-null  float64\n",
      "dtypes: float64(11)\n",
      "memory usage: 1.3 MB\n"
     ]
    }
   ],
   "source": [
    "data.info()"
   ]
  },
  {
   "cell_type": "code",
   "execution_count": 18,
   "id": "92aa4886",
   "metadata": {
    "ExecuteTime": {
     "end_time": "2023-02-01T04:17:40.401360Z",
     "start_time": "2023-02-01T04:17:40.385628Z"
    }
   },
   "outputs": [
    {
     "data": {
      "text/plain": [
       "Index(['AT', 'AP', 'AH', 'AFDP', 'GTEP', 'TIT', 'TAT', 'TEY', 'CDP', 'CO',\n",
       "       'NOX'],\n",
       "      dtype='object')"
      ]
     },
     "execution_count": 18,
     "metadata": {},
     "output_type": "execute_result"
    }
   ],
   "source": [
    "data.columns"
   ]
  },
  {
   "cell_type": "markdown",
   "id": "f1c6d07e",
   "metadata": {},
   "source": [
    "##### Selecting x and y as per the given problem statement"
   ]
  },
  {
   "cell_type": "code",
   "execution_count": 19,
   "id": "138ebec8",
   "metadata": {
    "ExecuteTime": {
     "end_time": "2023-02-01T04:17:41.049480Z",
     "start_time": "2023-02-01T04:17:41.026621Z"
    }
   },
   "outputs": [],
   "source": [
    "x=data[['AT','AT','AH']]"
   ]
  },
  {
   "cell_type": "code",
   "execution_count": 20,
   "id": "aacdeafa",
   "metadata": {
    "ExecuteTime": {
     "end_time": "2023-02-01T04:17:41.786307Z",
     "start_time": "2023-02-01T04:17:41.770232Z"
    }
   },
   "outputs": [],
   "source": [
    "y=data['TEY']"
   ]
  },
  {
   "cell_type": "markdown",
   "id": "9426539e",
   "metadata": {},
   "source": [
    "#### Splitting into training and testing"
   ]
  },
  {
   "cell_type": "code",
   "execution_count": 21,
   "id": "d7b9ee47",
   "metadata": {
    "ExecuteTime": {
     "end_time": "2023-02-01T04:17:42.855061Z",
     "start_time": "2023-02-01T04:17:42.831079Z"
    }
   },
   "outputs": [
    {
     "name": "stdout",
     "output_type": "stream",
     "text": [
      "(10527, 3)\n",
      "(10527,)\n",
      "(4512, 3)\n",
      "(4512,)\n"
     ]
    }
   ],
   "source": [
    "from sklearn.model_selection import train_test_split\n",
    "x_train, x_test, y_train, y_test = train_test_split(x, y, test_size=0.3, random_state=42)\n",
    " \n",
    "\n",
    "print(x_train.shape)\n",
    "print(y_train.shape)\n",
    "print(x_test.shape)\n",
    "print(y_test.shape)"
   ]
  },
  {
   "cell_type": "markdown",
   "id": "301d01b0",
   "metadata": {},
   "source": [
    "## Model building"
   ]
  },
  {
   "cell_type": "markdown",
   "id": "34da1743",
   "metadata": {},
   "source": [
    "###### model with 3 hidden layers"
   ]
  },
  {
   "cell_type": "code",
   "execution_count": 31,
   "id": "d15c0382",
   "metadata": {
    "ExecuteTime": {
     "end_time": "2023-02-01T04:24:51.651554Z",
     "start_time": "2023-02-01T04:24:51.594102Z"
    }
   },
   "outputs": [],
   "source": [
    "model = Sequential()\n",
    "model.add(Dense(units=12, input_dim=3, kernel_initializer='normal', activation='relu'))\n",
    "model.add(Dense(units=8, kernel_initializer='normal', activation='relu'))\n",
    "model.add(Dense(1, kernel_initializer='normal'))"
   ]
  },
  {
   "cell_type": "code",
   "execution_count": 32,
   "id": "38d4f7bc",
   "metadata": {
    "ExecuteTime": {
     "end_time": "2023-02-01T04:24:54.127048Z",
     "start_time": "2023-02-01T04:24:54.103582Z"
    }
   },
   "outputs": [],
   "source": [
    "model.compile(loss='mean_squared_error', optimizer='adam', metrics=['accuracy'])"
   ]
  },
  {
   "cell_type": "markdown",
   "id": "9e3b683a",
   "metadata": {},
   "source": [
    "#### Fitting model on train data"
   ]
  },
  {
   "cell_type": "code",
   "execution_count": 33,
   "id": "915b730b",
   "metadata": {
    "ExecuteTime": {
     "end_time": "2023-02-01T04:25:54.415981Z",
     "start_time": "2023-02-01T04:24:55.841926Z"
    }
   },
   "outputs": [
    {
     "name": "stdout",
     "output_type": "stream",
     "text": [
      "Epoch 1/50\n",
      "706/706 [==============================] - 1s 1ms/step - loss: 3630.4526 - accuracy: 0.0000e+00 - val_loss: 601.0422 - val_accuracy: 0.0000e+00\n",
      "Epoch 2/50\n",
      "706/706 [==============================] - 1s 1ms/step - loss: 597.1857 - accuracy: 0.0000e+00 - val_loss: 548.0883 - val_accuracy: 0.0000e+00\n",
      "Epoch 3/50\n",
      "706/706 [==============================] - 1s 1ms/step - loss: 545.7111 - accuracy: 0.0000e+00 - val_loss: 504.6269 - val_accuracy: 0.0000e+00\n",
      "Epoch 4/50\n",
      "706/706 [==============================] - 1s 1ms/step - loss: 511.2999 - accuracy: 0.0000e+00 - val_loss: 475.4150 - val_accuracy: 0.0000e+00\n",
      "Epoch 5/50\n",
      "706/706 [==============================] - 1s 2ms/step - loss: 495.3018 - accuracy: 0.0000e+00 - val_loss: 466.8847 - val_accuracy: 0.0000e+00\n",
      "Epoch 6/50\n",
      "706/706 [==============================] - 1s 2ms/step - loss: 484.1273 - accuracy: 0.0000e+00 - val_loss: 458.4672 - val_accuracy: 0.0000e+00\n",
      "Epoch 7/50\n",
      "706/706 [==============================] - 1s 2ms/step - loss: 479.9747 - accuracy: 0.0000e+00 - val_loss: 455.4071 - val_accuracy: 0.0000e+00\n",
      "Epoch 8/50\n",
      "706/706 [==============================] - 1s 1ms/step - loss: 476.9541 - accuracy: 0.0000e+00 - val_loss: 465.1374 - val_accuracy: 0.0000e+00\n",
      "Epoch 9/50\n",
      "706/706 [==============================] - 1s 1ms/step - loss: 471.6989 - accuracy: 0.0000e+00 - val_loss: 446.2695 - val_accuracy: 0.0000e+00\n",
      "Epoch 10/50\n",
      "706/706 [==============================] - 1s 2ms/step - loss: 466.9543 - accuracy: 0.0000e+00 - val_loss: 461.6532 - val_accuracy: 0.0000e+00\n",
      "Epoch 11/50\n",
      "706/706 [==============================] - 1s 1ms/step - loss: 463.7505 - accuracy: 0.0000e+00 - val_loss: 441.4964 - val_accuracy: 0.0000e+00\n",
      "Epoch 12/50\n",
      "706/706 [==============================] - 1s 1ms/step - loss: 459.1199 - accuracy: 0.0000e+00 - val_loss: 434.6368 - val_accuracy: 0.0000e+00\n",
      "Epoch 13/50\n",
      "706/706 [==============================] - 1s 1ms/step - loss: 453.8998 - accuracy: 0.0000e+00 - val_loss: 432.0535 - val_accuracy: 0.0000e+00\n",
      "Epoch 14/50\n",
      "706/706 [==============================] - 1s 2ms/step - loss: 448.6886 - accuracy: 0.0000e+00 - val_loss: 423.5702 - val_accuracy: 0.0000e+00\n",
      "Epoch 15/50\n",
      "706/706 [==============================] - 1s 1ms/step - loss: 444.0661 - accuracy: 0.0000e+00 - val_loss: 417.3185 - val_accuracy: 0.0000e+00\n",
      "Epoch 16/50\n",
      "706/706 [==============================] - 1s 2ms/step - loss: 437.8857 - accuracy: 0.0000e+00 - val_loss: 413.7661 - val_accuracy: 0.0000e+00\n",
      "Epoch 17/50\n",
      "706/706 [==============================] - 1s 2ms/step - loss: 432.5633 - accuracy: 0.0000e+00 - val_loss: 405.9918 - val_accuracy: 0.0000e+00\n",
      "Epoch 18/50\n",
      "706/706 [==============================] - 1s 2ms/step - loss: 426.3551 - accuracy: 0.0000e+00 - val_loss: 410.9794 - val_accuracy: 0.0000e+00\n",
      "Epoch 19/50\n",
      "706/706 [==============================] - 1s 2ms/step - loss: 416.8416 - accuracy: 0.0000e+00 - val_loss: 395.6092 - val_accuracy: 0.0000e+00\n",
      "Epoch 20/50\n",
      "706/706 [==============================] - 1s 2ms/step - loss: 408.3292 - accuracy: 0.0000e+00 - val_loss: 386.9253 - val_accuracy: 0.0000e+00\n",
      "Epoch 21/50\n",
      "706/706 [==============================] - 1s 1ms/step - loss: 398.8512 - accuracy: 0.0000e+00 - val_loss: 377.9189 - val_accuracy: 0.0000e+00\n",
      "Epoch 22/50\n",
      "706/706 [==============================] - 1s 1ms/step - loss: 391.6522 - accuracy: 0.0000e+00 - val_loss: 365.5763 - val_accuracy: 0.0000e+00\n",
      "Epoch 23/50\n",
      "706/706 [==============================] - 1s 1ms/step - loss: 380.1502 - accuracy: 0.0000e+00 - val_loss: 361.7088 - val_accuracy: 0.0000e+00\n",
      "Epoch 24/50\n",
      "706/706 [==============================] - 1s 1ms/step - loss: 368.7216 - accuracy: 0.0000e+00 - val_loss: 349.7657 - val_accuracy: 0.0000e+00\n",
      "Epoch 25/50\n",
      "706/706 [==============================] - 1s 1ms/step - loss: 358.7466 - accuracy: 0.0000e+00 - val_loss: 331.2557 - val_accuracy: 0.0000e+00\n",
      "Epoch 26/50\n",
      "706/706 [==============================] - 1s 1ms/step - loss: 345.3922 - accuracy: 0.0000e+00 - val_loss: 325.3779 - val_accuracy: 0.0000e+00\n",
      "Epoch 27/50\n",
      "706/706 [==============================] - 1s 1ms/step - loss: 329.7520 - accuracy: 0.0000e+00 - val_loss: 335.8396 - val_accuracy: 0.0000e+00\n",
      "Epoch 28/50\n",
      "706/706 [==============================] - 1s 1ms/step - loss: 311.8512 - accuracy: 0.0000e+00 - val_loss: 288.9718 - val_accuracy: 0.0000e+00\n",
      "Epoch 29/50\n",
      "706/706 [==============================] - 1s 2ms/step - loss: 297.4600 - accuracy: 0.0000e+00 - val_loss: 275.9308 - val_accuracy: 0.0000e+00\n",
      "Epoch 30/50\n",
      "706/706 [==============================] - 1s 1ms/step - loss: 280.5728 - accuracy: 0.0000e+00 - val_loss: 261.0540 - val_accuracy: 0.0000e+00\n",
      "Epoch 31/50\n",
      "706/706 [==============================] - 1s 1ms/step - loss: 267.2994 - accuracy: 0.0000e+00 - val_loss: 248.3584 - val_accuracy: 0.0000e+00\n",
      "Epoch 32/50\n",
      "706/706 [==============================] - 1s 2ms/step - loss: 255.4721 - accuracy: 0.0000e+00 - val_loss: 237.9213 - val_accuracy: 0.0000e+00\n",
      "Epoch 33/50\n",
      "706/706 [==============================] - 1s 2ms/step - loss: 247.5004 - accuracy: 0.0000e+00 - val_loss: 237.8535 - val_accuracy: 0.0000e+00\n",
      "Epoch 34/50\n",
      "706/706 [==============================] - 1s 2ms/step - loss: 239.6932 - accuracy: 0.0000e+00 - val_loss: 241.6476 - val_accuracy: 0.0000e+00\n",
      "Epoch 35/50\n",
      "706/706 [==============================] - 1s 2ms/step - loss: 237.3077 - accuracy: 0.0000e+00 - val_loss: 225.5182 - val_accuracy: 0.0000e+00\n",
      "Epoch 36/50\n",
      "706/706 [==============================] - 1s 2ms/step - loss: 234.7401 - accuracy: 0.0000e+00 - val_loss: 223.0637 - val_accuracy: 0.0000e+00\n",
      "Epoch 37/50\n",
      "706/706 [==============================] - 1s 1ms/step - loss: 234.7258 - accuracy: 0.0000e+00 - val_loss: 222.4858 - val_accuracy: 0.0000e+00\n",
      "Epoch 38/50\n",
      "706/706 [==============================] - 1s 1ms/step - loss: 230.8086 - accuracy: 0.0000e+00 - val_loss: 253.9875 - val_accuracy: 0.0000e+00\n",
      "Epoch 39/50\n",
      "706/706 [==============================] - 2s 2ms/step - loss: 231.8145 - accuracy: 0.0000e+00 - val_loss: 222.3293 - val_accuracy: 0.0000e+00\n",
      "Epoch 40/50\n",
      "706/706 [==============================] - 1s 2ms/step - loss: 235.0055 - accuracy: 0.0000e+00 - val_loss: 223.9791 - val_accuracy: 0.0000e+00\n",
      "Epoch 41/50\n",
      "706/706 [==============================] - 1s 2ms/step - loss: 229.1781 - accuracy: 0.0000e+00 - val_loss: 221.2377 - val_accuracy: 0.0000e+00\n",
      "Epoch 42/50\n",
      "706/706 [==============================] - 2s 2ms/step - loss: 232.3138 - accuracy: 0.0000e+00 - val_loss: 231.1193 - val_accuracy: 0.0000e+00\n",
      "Epoch 43/50\n",
      "706/706 [==============================] - 2s 2ms/step - loss: 229.4221 - accuracy: 0.0000e+00 - val_loss: 220.4415 - val_accuracy: 0.0000e+00\n",
      "Epoch 44/50\n",
      "706/706 [==============================] - 1s 2ms/step - loss: 229.6458 - accuracy: 0.0000e+00 - val_loss: 220.3224 - val_accuracy: 0.0000e+00\n",
      "Epoch 45/50\n",
      "706/706 [==============================] - 1s 2ms/step - loss: 227.7509 - accuracy: 0.0000e+00 - val_loss: 219.7150 - val_accuracy: 0.0000e+00\n",
      "Epoch 46/50\n",
      "706/706 [==============================] - 2s 2ms/step - loss: 231.6545 - accuracy: 0.0000e+00 - val_loss: 220.0889 - val_accuracy: 0.0000e+00\n",
      "Epoch 47/50\n",
      "706/706 [==============================] - 1s 2ms/step - loss: 228.1277 - accuracy: 0.0000e+00 - val_loss: 219.3902 - val_accuracy: 0.0000e+00\n",
      "Epoch 48/50\n",
      "706/706 [==============================] - 2s 2ms/step - loss: 227.0802 - accuracy: 0.0000e+00 - val_loss: 218.9921 - val_accuracy: 0.0000e+00\n",
      "Epoch 49/50\n",
      "706/706 [==============================] - 2s 2ms/step - loss: 229.6174 - accuracy: 0.0000e+00 - val_loss: 221.0971 - val_accuracy: 0.0000e+00\n",
      "Epoch 50/50\n",
      "706/706 [==============================] - 1s 2ms/step - loss: 230.9425 - accuracy: 0.0000e+00 - val_loss: 242.9129 - val_accuracy: 0.0000e+00\n"
     ]
    }
   ],
   "source": [
    "m=model.fit(x_train,y_train,validation_split=0.33,epochs=50,batch_size=10)"
   ]
  },
  {
   "cell_type": "markdown",
   "id": "4312fa22",
   "metadata": {},
   "source": [
    "#### Making predictions on test data"
   ]
  },
  {
   "cell_type": "code",
   "execution_count": 34,
   "id": "c5eaf10f",
   "metadata": {
    "ExecuteTime": {
     "end_time": "2023-02-01T04:25:58.117329Z",
     "start_time": "2023-02-01T04:25:57.874342Z"
    }
   },
   "outputs": [
    {
     "name": "stdout",
     "output_type": "stream",
     "text": [
      "141/141 [==============================] - 0s 855us/step\n"
     ]
    },
    {
     "data": {
      "text/plain": [
       "array([[124.72256],\n",
       "       [121.1295 ],\n",
       "       [124.32592],\n",
       "       ...,\n",
       "       [125.30755],\n",
       "       [135.62662],\n",
       "       [133.8546 ]], dtype=float32)"
      ]
     },
     "execution_count": 34,
     "metadata": {},
     "output_type": "execute_result"
    }
   ],
   "source": [
    "Predictions=model.predict(x_test)\n",
    "Predictions"
   ]
  },
  {
   "cell_type": "code",
   "execution_count": 35,
   "id": "5fd17c94",
   "metadata": {
    "ExecuteTime": {
     "end_time": "2023-02-01T04:25:59.735993Z",
     "start_time": "2023-02-01T04:25:59.720319Z"
    }
   },
   "outputs": [
    {
     "name": "stdout",
     "output_type": "stream",
     "text": [
      "13312    134.46\n",
      "12627    111.88\n",
      "6393     133.72\n",
      "4990     133.79\n",
      "12462    110.77\n",
      "          ...  \n",
      "7495     134.08\n",
      "11501    102.87\n",
      "2685     155.96\n",
      "9412     133.67\n",
      "9775     156.32\n",
      "Name: TEY, Length: 4512, dtype: float64\n"
     ]
    }
   ],
   "source": [
    "print(y_test)"
   ]
  },
  {
   "cell_type": "code",
   "execution_count": 36,
   "id": "04b30f7f",
   "metadata": {
    "ExecuteTime": {
     "end_time": "2023-02-01T04:26:01.893244Z",
     "start_time": "2023-02-01T04:26:01.861828Z"
    }
   },
   "outputs": [
    {
     "data": {
      "text/plain": [
       "15.74314232417245"
      ]
     },
     "execution_count": 36,
     "metadata": {},
     "output_type": "execute_result"
    }
   ],
   "source": [
    "import math\n",
    "from sklearn.metrics import mean_squared_error\n",
    "mean_squared_error(y_test,Predictions)\n",
    "math.sqrt(mean_squared_error(y_test,Predictions))"
   ]
  },
  {
   "cell_type": "markdown",
   "id": "b19f6e73",
   "metadata": {},
   "source": [
    "##### We got error of 15.7% using above parameters"
   ]
  }
 ],
 "metadata": {
  "kernelspec": {
   "display_name": "Python 3 (ipykernel)",
   "language": "python",
   "name": "python3"
  },
  "language_info": {
   "codemirror_mode": {
    "name": "ipython",
    "version": 3
   },
   "file_extension": ".py",
   "mimetype": "text/x-python",
   "name": "python",
   "nbconvert_exporter": "python",
   "pygments_lexer": "ipython3",
   "version": "3.9.13"
  }
 },
 "nbformat": 4,
 "nbformat_minor": 5
}
